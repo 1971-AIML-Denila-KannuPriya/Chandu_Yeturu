{
 "cells": [
  {
   "cell_type": "code",
   "execution_count": null,
   "id": "5f8cf63f",
   "metadata": {},
   "outputs": [],
   "source": [
    "# 1. Find duplicates in a list\n"
   ]
  },
  {
   "cell_type": "code",
   "execution_count": 1,
   "id": "c8e23abe",
   "metadata": {},
   "outputs": [],
   "source": [
    "def find_duplicates(lst):\n",
    "    return list(set([x for x in lst if lst.count(x) > 1]))\n"
   ]
  },
  {
   "cell_type": "code",
   "execution_count": null,
   "id": "fd4b21ea",
   "metadata": {},
   "outputs": [],
   "source": [
    "# 2. Check if a string is a valid palindrome\n"
   ]
  },
  {
   "cell_type": "code",
   "execution_count": 3,
   "id": "b4eb37ff",
   "metadata": {},
   "outputs": [],
   "source": [
    "import re\n",
    "def is_palindrome(s):\n",
    "    s = re.sub(r'[^A-Za-z0-9]', '', s).lower()\n",
    "    return s == s[::-1]\n"
   ]
  },
  {
   "cell_type": "code",
   "execution_count": null,
   "id": "1b410f1a",
   "metadata": {},
   "outputs": [],
   "source": [
    "# 3. Find the prime factors of a number\n"
   ]
  },
  {
   "cell_type": "code",
   "execution_count": null,
   "id": "c084af89",
   "metadata": {},
   "outputs": [],
   "source": [
    "def prime_factors(n):\n",
    "    factors = []\n",
    "    divisor = 2\n",
    "    while n > 1:\n",
    "        while n % divisor == 0:\n",
    "            factors.append(divisor)\n",
    "            n //= divisor\n",
    "        divisor += 1\n",
    "    return factors\n"
   ]
  },
  {
   "cell_type": "code",
   "execution_count": null,
   "id": "466dfb58",
   "metadata": {},
   "outputs": [],
   "source": [
    "# 4. Count the number of words in a sentence\n"
   ]
  },
  {
   "cell_type": "code",
   "execution_count": null,
   "id": "f55b792e",
   "metadata": {},
   "outputs": [],
   "source": [
    "def count_words(sentence):\n",
    "    return len(sentence.split())\n"
   ]
  },
  {
   "cell_type": "code",
   "execution_count": null,
   "id": "5e7192d7",
   "metadata": {},
   "outputs": [],
   "source": [
    "# 5. Rotate a list\n"
   ]
  },
  {
   "cell_type": "code",
   "execution_count": null,
   "id": "4610e506",
   "metadata": {},
   "outputs": [],
   "source": [
    "def rotate_list(lst, steps):\n",
    "    return lst[-steps:] + lst[:-steps]\n"
   ]
  },
  {
   "cell_type": "code",
   "execution_count": null,
   "id": "eebbbba0",
   "metadata": {},
   "outputs": [],
   "source": [
    "# 6. Find the first repeating character in a string\n"
   ]
  },
  {
   "cell_type": "code",
   "execution_count": null,
   "id": "e26d28aa",
   "metadata": {},
   "outputs": [],
   "source": [
    "def first_repeating_char(s):\n",
    "    seen = set()\n",
    "    for char in s:\n",
    "        if char in seen:\n",
    "            return char\n",
    "        seen.add(char)\n",
    "    return None\n"
   ]
  },
  {
   "cell_type": "code",
   "execution_count": null,
   "id": "20364800",
   "metadata": {},
   "outputs": [],
   "source": [
    "# 7. Merge two dictionaries\n"
   ]
  },
  {
   "cell_type": "code",
   "execution_count": null,
   "id": "a43972d9",
   "metadata": {},
   "outputs": [],
   "source": [
    "def merge_dicts(dict1, dict2):\n",
    "    for key, value in dict2.items():\n",
    "        dict1[key] = dict1.get(key, 0) + value\n",
    "    return dict1\n"
   ]
  },
  {
   "cell_type": "code",
   "execution_count": null,
   "id": "74d82c4a",
   "metadata": {},
   "outputs": [],
   "source": [
    "# 8. Find all pairs that sum to a specific target\n"
   ]
  },
  {
   "cell_type": "code",
   "execution_count": null,
   "id": "638c4fb2",
   "metadata": {},
   "outputs": [],
   "source": [
    "def find_pairs(arr, target):\n",
    "    pairs = []\n",
    "    seen = set()\n",
    "    for num in arr:\n",
    "        diff = target - num\n",
    "        if diff in seen:\n",
    "            pairs.append((diff, num))\n",
    "        seen.add(num)\n",
    "    return pairs\n"
   ]
  },
  {
   "cell_type": "code",
   "execution_count": null,
   "id": "68bbaf50",
   "metadata": {},
   "outputs": [],
   "source": [
    "# 9. Implement a stack using a list\n"
   ]
  },
  {
   "cell_type": "code",
   "execution_count": null,
   "id": "4b7bf37d",
   "metadata": {},
   "outputs": [],
   "source": [
    "class Stack:\n",
    "    def __init__(self):\n",
    "        self.stack = []\n",
    "    \n",
    "    def push(self, item):\n",
    "        self.stack.append(item)\n",
    "    \n",
    "    def pop(self):\n",
    "        return self.stack.pop() if self.stack else None\n",
    "    \n",
    "    def peek(self):\n",
    "        return self.stack[-1] if self.stack else None\n"
   ]
  },
  {
   "cell_type": "code",
   "execution_count": null,
   "id": "0243198d",
   "metadata": {},
   "outputs": [],
   "source": [
    "# 10. Find the longest substring without repeating characters\n"
   ]
  },
  {
   "cell_type": "code",
   "execution_count": null,
   "id": "a2a6bc17",
   "metadata": {},
   "outputs": [],
   "source": [
    "def longest_unique_substring(s):\n",
    "    start, max_len, char_index = 0, 0, {}\n",
    "    for i, char in enumerate(s):\n",
    "        if char in char_index and char_index[char] >= start:\n",
    "            start = char_index[char] + 1\n",
    "        char_index[char] = i\n",
    "        max_len = max(max_len, i - start + 1)\n",
    "    return max_len\n"
   ]
  },
  {
   "cell_type": "code",
   "execution_count": null,
   "id": "1eba9d45",
   "metadata": {},
   "outputs": [],
   "source": [
    "# 11. Generate all combinations of a set\n"
   ]
  },
  {
   "cell_type": "code",
   "execution_count": null,
   "id": "0f7e0aa8",
   "metadata": {},
   "outputs": [],
   "source": [
    "from itertools import combinations\n",
    "def generate_combinations(s):\n",
    "    comb = []\n",
    "    for r in range(1, len(s) + 1):\n",
    "        comb.extend(combinations(s, r))\n",
    "    return comb\n"
   ]
  },
  {
   "cell_type": "code",
   "execution_count": null,
   "id": "6c32e73e",
   "metadata": {},
   "outputs": [],
   "source": [
    "# 12. Check if two strings are anagrams\n"
   ]
  },
  {
   "cell_type": "code",
   "execution_count": null,
   "id": "8e937568",
   "metadata": {},
   "outputs": [],
   "source": [
    "def are_anagrams(str1, str2):\n",
    "    return sorted(str1) == sorted(str2)\n"
   ]
  },
  {
   "cell_type": "code",
   "execution_count": null,
   "id": "29edfd09",
   "metadata": {},
   "outputs": [],
   "source": [
    "# 13. Find the median of a list of numbers\n"
   ]
  },
  {
   "cell_type": "code",
   "execution_count": null,
   "id": "cce246b7",
   "metadata": {},
   "outputs": [],
   "source": [
    "def find_median(lst):\n",
    "    lst.sort()\n",
    "    n = len(lst)\n",
    "    if n % 2 == 1:\n",
    "        return lst[n // 2]\n",
    "    else:\n",
    "        return (lst[n // 2 - 1] + lst[n // 2]) / 2\n"
   ]
  },
  {
   "cell_type": "code",
   "execution_count": null,
   "id": "ac2b2ae3",
   "metadata": {},
   "outputs": [],
   "source": [
    "# 14. Implement a binary search tree\n"
   ]
  },
  {
   "cell_type": "code",
   "execution_count": null,
   "id": "9d444b20",
   "metadata": {},
   "outputs": [],
   "source": [
    "class Node:\n",
    "    def __init__(self, value):\n",
    "        self.value = value\n",
    "        self.left = None\n",
    "        self.right = None\n",
    "\n",
    "class BST:\n",
    "    def __init__(self):\n",
    "        self.root = None\n",
    "    \n",
    "    def insert(self, value):\n",
    "        if not self.root:\n",
    "            self.root = Node(value)\n",
    "        else:\n",
    "            self._insert(self.root, value)\n",
    "    \n",
    "    def _insert(self, node, value):\n",
    "        if value < node.value:\n",
    "            if node.left:\n",
    "                self._insert(node.left, value)\n",
    "            else:\n",
    "                node.left = Node(value)\n",
    "        else:\n",
    "            if node.right:\n",
    "                self._insert(node.right, value)\n",
    "            else:\n",
    "                node.right = Node(value)\n",
    "    \n",
    "    def search(self, value):\n",
    "        return self._search(self.root, value)\n",
    "    \n",
    "    def _search(self, node, value):\n",
    "        if not node or node.value == value:\n",
    "            return node\n",
    "        if value < node.value:\n",
    "            return self._search(node.left, value)\n",
    "        else:\n",
    "            return self._search(node.right, value)\n"
   ]
  },
  {
   "cell_type": "code",
   "execution_count": null,
   "id": "d4582176",
   "metadata": {},
   "outputs": [],
   "source": [
    "# 15. Check if a given year is a leap year\n"
   ]
  },
  {
   "cell_type": "code",
   "execution_count": null,
   "id": "66743651",
   "metadata": {},
   "outputs": [],
   "source": [
    "def is_leap_year(year):\n",
    "    return year % 4 == 0 and (year % 100 != 0 or year % 400 == 0)\n"
   ]
  },
  {
   "cell_type": "code",
   "execution_count": null,
   "id": "f83760ab",
   "metadata": {},
   "outputs": [],
   "source": [
    "# 16. Find the kth smallest element in an array\n"
   ]
  },
  {
   "cell_type": "code",
   "execution_count": null,
   "id": "01b33e05",
   "metadata": {},
   "outputs": [],
   "source": [
    "def kth_smallest(arr, k):\n",
    "    arr.sort()\n",
    "    return arr[k - 1]\n"
   ]
  },
  {
   "cell_type": "code",
   "execution_count": null,
   "id": "3d903d58",
   "metadata": {},
   "outputs": [],
   "source": [
    "# 17. Sum of digits in a number (recursive)\n"
   ]
  },
  {
   "cell_type": "code",
   "execution_count": null,
   "id": "62506935",
   "metadata": {},
   "outputs": [],
   "source": [
    "def sum_of_digits(n):\n",
    "    if n == 0:\n",
    "        return 0\n",
    "    return n % 10 + sum_of_digits(n // 10)\n"
   ]
  },
  {
   "cell_type": "code",
   "execution_count": null,
   "id": "7f866ac1",
   "metadata": {},
   "outputs": [],
   "source": [
    "# 18. Count the number of uppercase and lowercase letters\n"
   ]
  },
  {
   "cell_type": "code",
   "execution_count": null,
   "id": "28eb7415",
   "metadata": {},
   "outputs": [],
   "source": [
    "def count_case(s):\n",
    "    upper, lower = 0, 0\n",
    "    for char in s:\n",
    "        if char.isupper():\n",
    "            upper += 1\n",
    "        elif char.islower():\n",
    "            lower += 1\n",
    "    return upper, lower\n"
   ]
  },
  {
   "cell_type": "code",
   "execution_count": null,
   "id": "7e11c51e",
   "metadata": {},
   "outputs": [],
   "source": [
    "# 19. Implement the bubble sort algorithm\n"
   ]
  },
  {
   "cell_type": "code",
   "execution_count": null,
   "id": "1219d07e",
   "metadata": {},
   "outputs": [],
   "source": [
    "def bubble_sort(lst):\n",
    "    n = len(lst)\n",
    "    for i in range(n):\n",
    "        for j in range(0, n-i-1):\n",
    "            if lst[j] > lst[j+1]:\n",
    "                lst[j], lst[j+1] = lst[j+1], lst[j]\n",
    "    return lst\n"
   ]
  },
  {
   "cell_type": "code",
   "execution_count": null,
   "id": "a1f67916",
   "metadata": {},
   "outputs": [],
   "source": [
    "# 20. Find the intersection of two lists\n"
   ]
  },
  {
   "cell_type": "code",
   "execution_count": null,
   "id": "69f11e9a",
   "metadata": {},
   "outputs": [],
   "source": [
    "def intersection(lst1, lst2):\n",
    "    return list(set(lst1) & set(lst2))\n"
   ]
  }
 ],
 "metadata": {
  "kernelspec": {
   "display_name": "Python 3 (ipykernel)",
   "language": "python",
   "name": "python3"
  },
  "language_info": {
   "codemirror_mode": {
    "name": "ipython",
    "version": 3
   },
   "file_extension": ".py",
   "mimetype": "text/x-python",
   "name": "python",
   "nbconvert_exporter": "python",
   "pygments_lexer": "ipython3",
   "version": "3.12.4"
  }
 },
 "nbformat": 4,
 "nbformat_minor": 5
}
