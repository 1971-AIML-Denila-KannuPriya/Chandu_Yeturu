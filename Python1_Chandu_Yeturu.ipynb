{
 "cells": [
  {
   "cell_type": "code",
   "execution_count": 16,
   "id": "9097c52b-fb12-4c58-ac8d-900fb3113f79",
   "metadata": {},
   "outputs": [
    {
     "name": "stdin",
     "output_type": "stream",
     "text": [
      " 1 2 3 4 5\n"
     ]
    },
    {
     "name": "stdout",
     "output_type": "stream",
     "text": [
      "4\n"
     ]
    }
   ],
   "source": [
    "#finding second largest number\n",
    "l = list(map(int,input().split(' ')))\n",
    "l.sort()\n",
    "print(l[-2])"
   ]
  },
  {
   "cell_type": "code",
   "execution_count": 30,
   "id": "376a299e-8280-473b-8b19-8ad653f99b9a",
   "metadata": {},
   "outputs": [
    {
     "name": "stdout",
     "output_type": "stream",
     "text": [
      "17 is Prime\n"
     ]
    }
   ],
   "source": [
    "#number is prime or not\n",
    "num = 17\n",
    "prime = True\n",
    "if num <= 1:\n",
    "    prime = False\n",
    "else:\n",
    "    for i in range(2, int(num**0.5) + 1):\n",
    "        if num % i == 0:\n",
    "            prime = False\n",
    "            break\n",
    "if prime:\n",
    "    print(num, \"is Prime\")\n",
    "else:\n",
    "    print(num, \"is not Prime\")"
   ]
  },
  {
   "cell_type": "code",
   "execution_count": 22,
   "id": "487b3afe-3a7f-4abb-a1cc-724656e94e82",
   "metadata": {},
   "outputs": [
    {
     "name": "stdin",
     "output_type": "stream",
     "text": [
      " 12\n"
     ]
    },
    {
     "name": "stdout",
     "output_type": "stream",
     "text": [
      "21\n"
     ]
    }
   ],
   "source": [
    "#reverse a string\n",
    "s = input()\n",
    "res = \"\"\n",
    "for i in range(-1,-len(s)-1,-1):\n",
    "    res+=s[i]\n",
    "print(res)"
   ]
  },
  {
   "cell_type": "code",
   "execution_count": 31,
   "id": "91a10663-3151-497b-8f25-4acd04091695",
   "metadata": {},
   "outputs": [
    {
     "name": "stdout",
     "output_type": "stream",
     "text": [
      "[1, 2, 3, 4, 5, 6, 7, 8, 9, 10]\n"
     ]
    }
   ],
   "source": [
    "#merge two sorted arrays\n",
    "L1 = [1,2,3,4,5]\n",
    "L2 = [6,7,8,9,10]\n",
    "L1.extend(L2)\n",
    "L1.sort()\n",
    "print(L1)"
   ]
  },
  {
   "cell_type": "code",
   "execution_count": 34,
   "id": "2ab36909-0fbe-470f-9bd7-822b1d75b461",
   "metadata": {},
   "outputs": [
    {
     "name": "stdin",
     "output_type": "stream",
     "text": [
      " 4\n"
     ]
    },
    {
     "name": "stdout",
     "output_type": "stream",
     "text": [
      "24\n"
     ]
    }
   ],
   "source": [
    "#factorial\n",
    "def fact(n):\n",
    "    if n==0 or n==1:\n",
    "        return 1\n",
    "    else:\n",
    "        return n*fact(n-1)\n",
    "print(fact(int(input())))"
   ]
  },
  {
   "cell_type": "code",
   "execution_count": 35,
   "id": "883519b1-86be-4062-8ab4-0f43e9b29c44",
   "metadata": {},
   "outputs": [
    {
     "name": "stdin",
     "output_type": "stream",
     "text": [
      " 12\n"
     ]
    },
    {
     "name": "stdout",
     "output_type": "stream",
     "text": [
      "Not Polindrome\n"
     ]
    }
   ],
   "source": [
    "#polindrome\n",
    "s = input()\n",
    "if s==s[::-1]:\n",
    "    print(\"Polindrome\")\n",
    "else:\n",
    "    print(\"Not Polindrome\")"
   ]
  },
  {
   "cell_type": "code",
   "execution_count": 36,
   "id": "02e44781-2fd8-42ad-b6b1-731c2544bacc",
   "metadata": {},
   "outputs": [
    {
     "name": "stdin",
     "output_type": "stream",
     "text": [
      " 12\n"
     ]
    },
    {
     "name": "stdout",
     "output_type": "stream",
     "text": [
      "1100\n"
     ]
    }
   ],
   "source": [
    "#decimal number to binary\n",
    "def binary(n):\n",
    "    res = \"\"\n",
    "    while(n!=0):\n",
    "        res = str(n%2)+res\n",
    "        n=n//2\n",
    "    print(res)\n",
    "n = binary(int(input()))"
   ]
  },
  {
   "cell_type": "code",
   "execution_count": 47,
   "id": "660c791c-4995-4056-a57f-619f3228ff64",
   "metadata": {},
   "outputs": [
    {
     "name": "stdout",
     "output_type": "stream",
     "text": [
      "[2, 7]\n",
      "[3, 6]\n",
      "[4, 5]\n",
      "[5, 4]\n",
      "[6, 3]\n"
     ]
    }
   ],
   "source": [
    "#find pairs in an array\n",
    "l = [1,2,3,4,5,6,7]\n",
    "Sum = 9\n",
    "for j in range(len(l)-1):\n",
    "    for i in range(1,len(l)):\n",
    "        if l[j]+l[i]==Sum:\n",
    "            print([l[j],l[i]])"
   ]
  },
  {
   "cell_type": "code",
   "execution_count": 37,
   "id": "96823938-fbff-460e-982d-463d97b90902",
   "metadata": {},
   "outputs": [
    {
     "name": "stdout",
     "output_type": "stream",
     "text": [
      "1:1\n",
      "2:1\n",
      "3:1\n",
      "4:1\n",
      "5:1\n"
     ]
    }
   ],
   "source": [
    "#count the frequency of the elements\n",
    "L = [1,2,3,4,5]\n",
    "L2 = list(set(L))\n",
    "for el in L2:\n",
    "    print(f\"{el}:{str(L.count(el))}\")"
   ]
  },
  {
   "cell_type": "code",
   "execution_count": 3,
   "id": "27d40f37-984f-4732-b2a6-fb04e6d0afbe",
   "metadata": {},
   "outputs": [
    {
     "name": "stdin",
     "output_type": "stream",
     "text": [
      " 5\n"
     ]
    },
    {
     "name": "stdout",
     "output_type": "stream",
     "text": [
      "1\n",
      "1\n",
      "2\n",
      "3\n",
      "5\n"
     ]
    }
   ],
   "source": [
    "#fibonocci\n",
    "def fib(n):\n",
    "    if n==0 or n==1:\n",
    "        return 1\n",
    "    else:\n",
    "        return fib(n-1) + fib(n-2)\n",
    "\n",
    "def series(s):\n",
    "    for i in range(s):\n",
    "        res = fib(i)\n",
    "        print(res)\n",
    "n=int(input())\n",
    "series(n)"
   ]
  },
  {
   "cell_type": "code",
   "execution_count": 39,
   "id": "f04ccc1a-ce94-426c-9301-355427dad5c0",
   "metadata": {},
   "outputs": [
    {
     "name": "stdout",
     "output_type": "stream",
     "text": [
      "[1, 2, 3, 4, 5]\n"
     ]
    }
   ],
   "source": [
    "#remove duplicates from a list\n",
    "L = [1,2,3,3,4,4,5]\n",
    "print(list(set(L)))"
   ]
  },
  {
   "cell_type": "code",
   "execution_count": 41,
   "id": "34c5a2fc-4c5b-4484-b8a4-c707043d3128",
   "metadata": {},
   "outputs": [
    {
     "name": "stdout",
     "output_type": "stream",
     "text": [
      "True\n"
     ]
    }
   ],
   "source": [
    "#anagram check\n",
    "s1 = \"gum\"\n",
    "s2 = \"mug\"\n",
    "print(str(sorted(s1)).lower()==str(sorted(s2)).lower())"
   ]
  },
  {
   "cell_type": "code",
   "execution_count": 1,
   "id": "f3b9d908-bb9c-4806-9f4d-4c429b1faa28",
   "metadata": {},
   "outputs": [
    {
     "name": "stdout",
     "output_type": "stream",
     "text": [
      "vowel_count=7\n",
      "consonant_count=7\n"
     ]
    }
   ],
   "source": [
    "#count vowels and consonants\n",
    "s = \"we have a meeting\"\n",
    "vowel_count = 0\n",
    "consonant_count = 0\n",
    "s = str(''.join(s.split()))\n",
    "for ch in s:\n",
    "    if ch in \"aeiou\":\n",
    "        vowel_count+=1\n",
    "    else:\n",
    "        consonant_count+=1\n",
    "print(f\"vowel_count={vowel_count}\")\n",
    "print(f\"consonant_count={consonant_count}\")"
   ]
  },
  {
   "cell_type": "code",
   "execution_count": 5,
   "id": "b7a79547-b52b-47c2-aaf2-939398dc4b30",
   "metadata": {},
   "outputs": [
    {
     "name": "stdout",
     "output_type": "stream",
     "text": [
      "-1\n"
     ]
    }
   ],
   "source": [
    "#binary search\n",
    "l = [4,5,5,8,1,6]\n",
    "user = 17\n",
    "lowest = 0\n",
    "highest = len(l)-1\n",
    "mid = highest+lowest//2\n",
    "for ind in range(len(l)):\n",
    "    if l[ind]<user:\n",
    "        highest=mid-1\n",
    "    elif l[ind]>user:\n",
    "        lowest=mid+1\n",
    "    elif l[ind]==user:\n",
    "        print(ind)\n",
    "        break\n",
    "else:\n",
    "    print(-1)"
   ]
  },
  {
   "cell_type": "code",
   "execution_count": 6,
   "id": "d27b386f-0155-47be-a1d3-7639ccbc540a",
   "metadata": {},
   "outputs": [
    {
     "name": "stdout",
     "output_type": "stream",
     "text": [
      "[2, 3, 5, 4, 7]\n"
     ]
    }
   ],
   "source": [
    "#check if a list is sorted\n",
    "l = [2,3,7,5,4]\n",
    "for ind in range(len(l)-1):\n",
    "    if l[ind]>l[ind+1]:\n",
    "        l[ind],l[ind+1]=l[ind+1],l[ind]\n",
    "print(l)"
   ]
  },
  {
   "cell_type": "code",
   "execution_count": 7,
   "id": "345ac2ed-efaf-4fed-adab-ed42ba2f7dbb",
   "metadata": {},
   "outputs": [
    {
     "name": "stdout",
     "output_type": "stream",
     "text": [
      "[[3 6 7]\n",
      " [4 5 1]\n",
      " [5 4 2]]\n"
     ]
    }
   ],
   "source": [
    "#transpose of matrix\n",
    "import numpy as np\n",
    "l = [[3,4,5], [6,5,4], [7,1,2]]\n",
    "print(np.transpose(l))"
   ]
  },
  {
   "cell_type": "code",
   "execution_count": 12,
   "id": "47cdb2c8-1b7b-4976-8945-662da56316c1",
   "metadata": {},
   "outputs": [
    {
     "name": "stdout",
     "output_type": "stream",
     "text": [
      "6\n"
     ]
    }
   ],
   "source": [
    "#sum of digits in a number\n",
    "def sum_digits(num):\n",
    "    if num==0:\n",
    "        return 0\n",
    "    return num%10+sum_digits(num//10)\n",
    "print(sum_digits(123))"
   ]
  },
  {
   "cell_type": "code",
   "execution_count": 10,
   "id": "205bb99a-a0a3-4559-bd4e-df6de7ec4bef",
   "metadata": {},
   "outputs": [
    {
     "name": "stdout",
     "output_type": "stream",
     "text": [
      "[4, 6]\n"
     ]
    }
   ],
   "source": [
    "#intersection of two list\n",
    "L1 = [4,3,5,6,7]\n",
    "L2 = [2,4,6,8,9]\n",
    "L3 = []\n",
    "for el in L1:\n",
    "    if el in L2:\n",
    "        L3.append(el)\n",
    "print(L3)"
   ]
  },
  {
   "cell_type": "code",
   "execution_count": 11,
   "id": "405881a1-2941-4b9d-baec-f83cd16b2163",
   "metadata": {},
   "outputs": [
    {
     "name": "stdout",
     "output_type": "stream",
     "text": [
      "[('a', 'b', 'c'), ('a', 'c', 'b'), ('b', 'a', 'c'), ('b', 'c', 'a'), ('c', 'a', 'b'), ('c', 'b', 'a')]\n"
     ]
    }
   ],
   "source": [
    "#permutations of a string\n",
    "from itertools import permutations\n",
    "s='abc'\n",
    "print(list(permutations(s)))"
   ]
  },
  {
   "cell_type": "code",
   "execution_count": null,
   "id": "5b93e5e6-670b-407d-8ae8-fb05838378e0",
   "metadata": {},
   "outputs": [],
   "source": []
  }
 ],
 "metadata": {
  "kernelspec": {
   "display_name": "Python 3 (ipykernel)",
   "language": "python",
   "name": "python3"
  },
  "language_info": {
   "codemirror_mode": {
    "name": "ipython",
    "version": 3
   },
   "file_extension": ".py",
   "mimetype": "text/x-python",
   "name": "python",
   "nbconvert_exporter": "python",
   "pygments_lexer": "ipython3",
   "version": "3.12.4"
  }
 },
 "nbformat": 4,
 "nbformat_minor": 5
}
