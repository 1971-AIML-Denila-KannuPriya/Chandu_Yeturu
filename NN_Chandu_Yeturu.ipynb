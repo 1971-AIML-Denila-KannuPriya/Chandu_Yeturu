{
 "cells": [
  {
   "cell_type": "code",
   "execution_count": null,
   "id": "bed7d671-badb-4a71-9b4a-ea30adff22b5",
   "metadata": {},
   "outputs": [],
   "source": [
    "1.How do you create a simple feedforward neural network in Keras?"
   ]
  },
  {
   "cell_type": "code",
   "execution_count": 2,
   "id": "b1b8d62d-1531-47af-825c-49c229717b54",
   "metadata": {},
   "outputs": [],
   "source": [
    "from keras.models import Sequential\n",
    "from keras.layers import Dense\n",
    "\n",
    "# Define the model\n",
    "model = Sequential()\n",
    "model.add(Dense(64, input_dim=10, activation='relu'))  # Input layer\n",
    "model.add(Dense(32, activation='relu'))  # Hidden layer\n",
    "model.add(Dense(1, activation='sigmoid'))  # Output layer\n",
    "\n",
    "# Compile the model\n",
    "model.compile(optimizer='adam', loss='binary_crossentropy', metrics=['accuracy'])"
   ]
  },
  {
   "cell_type": "code",
   "execution_count": null,
   "id": "366aa446-e5a1-42b0-8f84-fb29d8a78513",
   "metadata": {},
   "outputs": [],
   "source": [
    "2.How do you initialize weights in a Keras model?"
   ]
  },
  {
   "cell_type": "code",
   "execution_count": 4,
   "id": "ccc3db41-22a8-45fc-a971-23114694692c",
   "metadata": {},
   "outputs": [
    {
     "name": "stderr",
     "output_type": "stream",
     "text": [
      "C:\\Users\\admin\\AppData\\Local\\Programs\\Python\\Python312\\Lib\\site-packages\\keras\\src\\layers\\core\\dense.py:87: UserWarning: Do not pass an `input_shape`/`input_dim` argument to a layer. When using Sequential models, prefer using an `Input(shape)` object as the first layer in the model instead.\n",
      "  super().__init__(activity_regularizer=activity_regularizer, **kwargs)\n"
     ]
    }
   ],
   "source": [
    "from keras.models import Sequential\n",
    "from keras.layers import Dense\n",
    "from keras.initializers import RandomNormal\n",
    "model = Sequential()\n",
    "model.add(Dense(64, input_dim=10, activation='relu', kernel_initializer=RandomNormal(mean=0.0, stddev=0.05)))"
   ]
  },
  {
   "cell_type": "code",
   "execution_count": null,
   "id": "c222b1e8-231a-47c3-9650-0de122182460",
   "metadata": {},
   "outputs": [],
   "source": [
    "\n",
    "\n",
    "\n",
    ".."
   ]
  }
 ],
 "metadata": {
  "kernelspec": {
   "display_name": "Python 3 (ipykernel)",
   "language": "python",
   "name": "python3"
  },
  "language_info": {
   "codemirror_mode": {
    "name": "ipython",
    "version": 3
   },
   "file_extension": ".py",
   "mimetype": "text/x-python",
   "name": "python",
   "nbconvert_exporter": "python",
   "pygments_lexer": "ipython3",
   "version": "3.12.4"
  }
 },
 "nbformat": 4,
 "nbformat_minor": 5
}
